{
 "cells": [
  {
   "cell_type": "code",
   "execution_count": 5,
   "id": "22b5d23b-8b0e-48e2-8f41-c86c3596f25e",
   "metadata": {},
   "outputs": [],
   "source": [
    "import ax\n",
    "import os\n",
    "import time \n",
    "from typing import Any, Mapping\n",
    "import subprocess\n",
    "\n",
    "\n",
    "import numpy as np \n",
    "from ax.api.client import Client\n",
    "from ax.api.configs import RangeParameterConfig\n",
    "from ax.api.protocols.metric import IMetric\n",
    "from ax.api.protocols.runner import IRunner, TrialStatus\n",
    "from ax.api.types import TParameterization \n",
    "import json"
   ]
  },
  {
   "cell_type": "code",
   "execution_count": 2,
   "id": "632ed492-d971-458a-b66b-82ef5db4ffea",
   "metadata": {},
   "outputs": [],
   "source": [
    "from ax import Client, RangeParameterConfig"
   ]
  },
  {
   "cell_type": "code",
   "execution_count": 3,
   "id": "1d09ff80-ec78-416e-a3d6-50761c4669f3",
   "metadata": {},
   "outputs": [],
   "source": [
    "client= Client()"
   ]
  },
  {
   "cell_type": "markdown",
   "id": "2a5244c6-6211-40e5-953b-4e6a033872c4",
   "metadata": {},
   "source": [
    "<font SIZE= 6> Parameter Configuration"
   ]
  },
  {
   "cell_type": "code",
   "execution_count": 4,
   "id": "5de50ebf-e408-43e8-8d96-ac8482fe0b4e",
   "metadata": {},
   "outputs": [
    {
     "ename": "TypeError",
     "evalue": "Client.configure_experiment() missing 1 required positional argument: 'self'",
     "output_type": "error",
     "traceback": [
      "\u001b[31m---------------------------------------------------------------------------\u001b[39m",
      "\u001b[31mTypeError\u001b[39m                                 Traceback (most recent call last)",
      "\u001b[36mCell\u001b[39m\u001b[36m \u001b[39m\u001b[32mIn[4]\u001b[39m\u001b[32m, line 22\u001b[39m\n\u001b[32m      1\u001b[39m parameters= [\n\u001b[32m      2\u001b[39m     RangeParameterConfig(\n\u001b[32m      3\u001b[39m         name=\u001b[33m\"\u001b[39m\u001b[33mx1\u001b[39m\u001b[33m\"\u001b[39m, parameter_type=\u001b[33m\"\u001b[39m\u001b[33mfloat\u001b[39m\u001b[33m\"\u001b[39m, bounds=(\u001b[32m0\u001b[39m, \u001b[32m1\u001b[39m)\n\u001b[32m   (...)\u001b[39m\u001b[32m     19\u001b[39m     ),\n\u001b[32m     20\u001b[39m ]\n\u001b[32m---> \u001b[39m\u001b[32m22\u001b[39m \u001b[43mClient\u001b[49m\u001b[43m.\u001b[49m\u001b[43mconfigure_experiment\u001b[49m\u001b[43m(\u001b[49m\u001b[43mparameters\u001b[49m\u001b[43m=\u001b[49m\u001b[43mparameters\u001b[49m\u001b[43m)\u001b[49m\n",
      "\u001b[31mTypeError\u001b[39m: Client.configure_experiment() missing 1 required positional argument: 'self'"
     ]
    }
   ],
   "source": [
    "parameters= [\n",
    "    RangeParameterConfig(\n",
    "        name=\"x1\", parameter_type=\"float\", bounds=(0, 1)\n",
    "    ),\n",
    "    RangeParameterConfig(\n",
    "        name=\"x2\", parameter_type=\"float\", bounds=(0, 1)\n",
    "    ),\n",
    "    RangeParameterConfig(\n",
    "        name=\"x3\", parameter_type=\"float\", bounds=(0, 1)\n",
    "    ),\n",
    "    RangeParameterConfig(\n",
    "        name=\"x4\", parameter_type=\"float\", bounds=(0, 1)\n",
    "    ),\n",
    "    RangeParameterConfig(\n",
    "        name=\"x5\", parameter_type=\"float\", bounds=(0, 1)\n",
    "    ),\n",
    "    RangeParameterConfig(\n",
    "        name=\"x6\", parameter_type=\"float\", bounds=(0, 1)\n",
    "    ),\n",
    "]\n",
    "\n",
    "Client.configure_experiment(parameters=parameters)"
   ]
  },
  {
   "cell_type": "markdown",
   "id": "500f5352",
   "metadata": {},
   "source": [
    "<font size= 6> Main Function"
   ]
  },
  {
   "cell_type": "code",
   "execution_count": null,
   "id": "69726f84",
   "metadata": {},
   "outputs": [],
   "source": [
    "def blackbox_function(x1,x2, x3, x4, x5, x6): \n",
    "    #This is where the experiment task happens\n",
    "    #delegate the task of printing to the external system (computer and the AJP)\n",
    "    #return the set of values (for now, line width) to the system"
   ]
  },
  {
   "cell_type": "markdown",
   "id": "dd7ae312-4bd6-481c-9797-c782280b07ff",
   "metadata": {},
   "source": [
    "<FONT SIZE = 6> Mimicking interaction (Deploying and Fetching) with an external system (IRunner)"
   ]
  },
  {
   "cell_type": "code",
   "execution_count": null,
   "id": "3d094658-2489-45d5-811f-afee3f9ab8d7",
   "metadata": {},
   "outputs": [
    {
     "ename": "NameError",
     "evalue": "name 'TParameterization0' is not defined",
     "output_type": "error",
     "traceback": [
      "\u001b[31m----------------------------------------------------------------------\u001b[39m",
      "\u001b[31mNameError\u001b[39m                            Traceback (most recent call last)",
      "\u001b[36mCell\u001b[39m\u001b[36m \u001b[39m\u001b[32mIn[11]\u001b[39m\u001b[32m, line 1\u001b[39m\n\u001b[32m----> \u001b[39m\u001b[32m1\u001b[39m \u001b[38;5;28;43;01mclass\u001b[39;49;00m\u001b[38;5;250;43m \u001b[39;49m\u001b[34;43;01mMockRunner\u001b[39;49;00m\u001b[43m(\u001b[49m\u001b[43mIRunner\u001b[49m\u001b[43m)\u001b[49m\u001b[43m:\u001b[49m\n\u001b[32m      2\u001b[39m \n\u001b[32m      3\u001b[39m \u001b[43m    \u001b[49m\u001b[38;5;66;43;03m#run_trial deploys a trial to the external system with the given parameters. \u001b[39;49;00m\n\u001b[32m      4\u001b[39m \u001b[43m    \u001b[49m\u001b[38;5;66;43;03m# Maybe my deploying would be to give a save a JSON file in a particular location or pass it on to an agent  in the workflow\u001b[39;49;00m\n\u001b[32m      5\u001b[39m \u001b[43m    \u001b[49m\u001b[38;5;28;43;01mdef\u001b[39;49;00m\u001b[38;5;250;43m \u001b[39;49m\u001b[34;43mrun_trial\u001b[39;49m\u001b[43m(\u001b[49m\n\u001b[32m      6\u001b[39m \u001b[43m        \u001b[49m\u001b[38;5;28;43mself\u001b[39;49m\u001b[43m,\u001b[49m\u001b[43m \u001b[49m\u001b[43mtrial_index\u001b[49m\u001b[43m:\u001b[49m\u001b[43m \u001b[49m\u001b[38;5;28;43mint\u001b[39;49m\u001b[43m,\u001b[49m\u001b[43m \u001b[49m\u001b[43mparameterization\u001b[49m\u001b[43m:\u001b[49m\u001b[43m \u001b[49m\u001b[43mTParameterization0\u001b[49m\u001b[43m \u001b[49m\u001b[43m)\u001b[49m\u001b[43m \u001b[49m\u001b[43m-\u001b[49m\u001b[43m>\u001b[49m\u001b[43m \u001b[49m\u001b[38;5;28;43mdict\u001b[39;49m\u001b[43m[\u001b[49m\u001b[38;5;28;43mstr\u001b[39;49m\u001b[43m,\u001b[49m\u001b[43m \u001b[49m\u001b[43mAny\u001b[49m\u001b[43m]\u001b[49m\u001b[43m:\u001b[49m\n\u001b[32m      7\u001b[39m \u001b[43m        \u001b[49m\u001b[43mfile_name\u001b[49m\u001b[43m=\u001b[49m\u001b[43m \u001b[49m\u001b[33;43mf\u001b[39;49m\u001b[33;43m\"\u001b[39;49m\u001b[38;5;132;43;01m{\u001b[39;49;00m\u001b[38;5;28;43mint\u001b[39;49m\u001b[43m(\u001b[49m\u001b[43mtime\u001b[49m\u001b[43m.\u001b[49m\u001b[43mtime\u001b[49m\u001b[43m(\u001b[49m\u001b[43m)\u001b[49m\u001b[43m)\u001b[49m\u001b[38;5;132;43;01m}\u001b[39;49;00m\u001b[33;43m.txt\u001b[39;49m\u001b[33;43m\"\u001b[39;49m\n",
      "\u001b[36mCell\u001b[39m\u001b[36m \u001b[39m\u001b[32mIn[11]\u001b[39m\u001b[32m, line 6\u001b[39m, in \u001b[36mMockRunner\u001b[39m\u001b[34m()\u001b[39m\n\u001b[32m      1\u001b[39m \u001b[38;5;28;01mclass\u001b[39;00m\u001b[38;5;250m \u001b[39m\u001b[34;01mMockRunner\u001b[39;00m(IRunner):\n\u001b[32m      2\u001b[39m \n\u001b[32m      3\u001b[39m     \u001b[38;5;66;03m#run_trial deploys a trial to the external system with the given parameters. \u001b[39;00m\n\u001b[32m      4\u001b[39m     \u001b[38;5;66;03m# Maybe my deploying would be to give a save a JSON file in a particular location or pass it on to an agent  in the workflow\u001b[39;00m\n\u001b[32m      5\u001b[39m     \u001b[38;5;28;01mdef\u001b[39;00m\u001b[38;5;250m \u001b[39m\u001b[34mrun_trial\u001b[39m(\n\u001b[32m----> \u001b[39m\u001b[32m6\u001b[39m         \u001b[38;5;28mself\u001b[39m, trial_index: \u001b[38;5;28mint\u001b[39m, parameterization: \u001b[43mTParameterization0\u001b[49m ) -> \u001b[38;5;28mdict\u001b[39m[\u001b[38;5;28mstr\u001b[39m, Any]:\n\u001b[32m      7\u001b[39m         file_name= \u001b[33mf\u001b[39m\u001b[33m\"\u001b[39m\u001b[38;5;132;01m{\u001b[39;00m\u001b[38;5;28mint\u001b[39m(time.time())\u001b[38;5;132;01m}\u001b[39;00m\u001b[33m.txt\u001b[39m\u001b[33m\"\u001b[39m\n\u001b[32m      8\u001b[39m         x1 = parameterization[\u001b[33m\"\u001b[39m\u001b[33mx1\u001b[39m\u001b[33m\"\u001b[39m]\n",
      "\u001b[31mNameError\u001b[39m: name 'TParameterization0' is not defined"
     ]
    }
   ],
   "source": [
    "INPUT_DIR = \"C://AJP/input_parameters\"\n",
    "OUTPUT_DIR = \"C://AJP/output_parameters\"\n",
    "\n",
    "class Runner(IRunner):\n",
    "\n",
    "    #run_trial deploys a trial to the external system with the given parameters. \n",
    "    # Maybe my deploying would be to give a save a JSON file in a particular location or pass it on to an agent  in the workflow\n",
    "\n",
    "\n",
    "    POWER_AUTOMATE_FLOW_ID = \"AUTOMATE_FLOW_ID\"\n",
    "    def run_trial(\n",
    "        self, trial_index: int, parameterization: TParameterization ) -> dict[str, Any]:\n",
    "        os.makedirs(INPUT_DIR, exist_ok= True)\n",
    "        os.makedirs(OUTPUT_DIR, exist_ok = True)\n",
    "\n",
    "        input_file_path = os.path.join(OUTPUT_DIR, f\"params_{trial_index}.json\")\n",
    "        with open(input_file_path, \"w\") as f: \n",
    "            json.dump(parameterization, f, indent=4)\n",
    "\n",
    "        output_file_path = os.path.join(OUTPUT_DIR, f\"results_{trial_index}.json\")\n",
    "        command = [\n",
    "            \"C:\\\\Program Files (x86)\\\\Power Automate Desktop\\\\PAD.Console.Host.exe\", # Default path, verify on your system\n",
    "            \"run\",\n",
    "            \"--flowId\", POWER_AUTOMATE_FLOW_ID,\n",
    "            \"--input\", f\"InputFilePath={input_file_path}\"\n",
    "        ]\n",
    "\n",
    "        procerss = subprocess.Popen(\n",
    "            \n",
    "        )\n",
    "\n",
    "\n",
    "        result = blackbox_function(x1, x2, x3, x4, x5, x6)\n",
    "\n",
    "        \n",
    "        with open(file_name, \"w\") as f: \n",
    "            f.write(f\"{result}\")\n",
    "\n",
    "        return {\"file_name\": file_name}\n",
    "\n",
    "\n",
    "    #poll_trial queries the external system to see if the trial has completed, failed, or if it's still runing. There is room to explore how this can be\n",
    "    # done or if this is needed at all. \n",
    "    \n",
    "    def poll_trial(self, trial_Index :int, trial_metadata: Mapping[str, Any]) -> TrialStatus: \n",
    "        file_name = trial_metadata[\"file_name\"]\n",
    "        time_elapsed = time.time() - int(file_name[:4])\n",
    "\n",
    "        if time_elapsed < 5: \n",
    "            return TrialStatus.Running\n",
    "\n",
    "        return TrialStatus.COMPLETED"
   ]
  },
  {
   "cell_type": "markdown",
   "id": "f2ba0873-1d4e-484a-804e-7f6fe715d423",
   "metadata": {},
   "source": [
    "<font size = 6> "
   ]
  },
  {
   "cell_type": "code",
   "execution_count": null,
   "id": "a2afd86e-de22-4717-936c-1533e8aff86d",
   "metadata": {},
   "outputs": [],
   "source": [
    "class MockMetric(IMetric): \n",
    "    def fetch(\n",
    "        self, \n",
    "        trial_index: int, \n",
    "        trial_metadata: Mapping[str, Any], ) -> tuple[int, float | tupl[float, float] ]:\n",
    "\n",
    "        file_name = trial_metadata[\"file_name\"]\n",
    "\n",
    "        with open (file_name,  'r') as file: \n",
    "            value = float(file.readline())\n",
    "            return (0, value)"
   ]
  },
  {
   "cell_type": "markdown",
   "id": "9c81b1f2-6185-4222-8575-c9d030df8146",
   "metadata": {},
   "source": [
    "<font size =6> Optimization Loop"
   ]
  },
  {
   "cell_type": "code",
   "execution_count": null,
   "id": "4f6cd58f-bb1c-4fbe-89d3-a210504a1217",
   "metadata": {},
   "outputs": [],
   "source": [
    "for _ in range(10): # Run 10 rounds of trials\n",
    "    \n",
    "    \n",
    "    # We will request three trials at a time in this example\n",
    "    trials = client.get_next_trials(max_trials= 3) \n",
    "\n",
    "    \n",
    "    for trial_index, parameters in trials.items():\n",
    "        x1 = parameters[\"x1\"]\n",
    "        x2 = parameters[\"x2\"]\n",
    "        x3 = parameters[\"x3\"]\n",
    "        x4 = parameters[\"x4\"]\n",
    "        x5 = parameters[\"x5\"]\n",
    "        x6 = parameters[\"x6\"]\n",
    "\n",
    "\n",
    "        #This is where the main experimentation part happens: Where I delegate the task to the outer system\n",
    "        result = hartmann6(x1, x2, x3, x4, x5, x6)\n",
    "\n",
    "        # Set raw_data as a dictionary with metric names as keys and results as values\n",
    "        raw_data = {metric_name: result}\n",
    "\n",
    "\n",
    "        \n",
    "        # Complete the trial with the result \n",
    "        \n",
    "        #[client.complete_trial(parameters, result]\n",
    "        #This is kept Ax in the database to generate data for the nextstep        \n",
    "        client.complete_trial(trial_index=trial_index, raw_data=raw_data)\n",
    "\n",
    "        print(f\"Completed trial {trial_index} with {raw_data=}\")"
   ]
  },
  {
   "cell_type": "markdown",
   "id": "a8a00533-9f42-479a-b590-3aff64dc63d0",
   "metadata": {},
   "source": [
    "<font size = 6> Fetching the best possible parameters after the given number of runs "
   ]
  },
  {
   "cell_type": "code",
   "execution_count": null,
   "id": "eda1bbcb-7989-4052-8845-c51ab66d2d07",
   "metadata": {},
   "outputs": [],
   "source": [
    "class MockMetric(IMetric): \n",
    "    def fetch(\n",
    "        self, \n",
    "        trial_index: int, \n",
    "        trial_metadata: Mapping[str, Any], ) -> tuple[int, float | tupl[float, float] ]:\n",
    "\n",
    "        file_name = trial_metadata[\"file_name\"]\n",
    "\n",
    "        with open (file_name,  'r') as file: \n",
    "            value = float(file.readline())\n",
    "            return (0, value)"
   ]
  },
  {
   "cell_type": "code",
   "execution_count": null,
   "id": "3aab5a92-ff0f-45bb-b299-4cac86c1f07b",
   "metadata": {},
   "outputs": [],
   "source": [
    "client = Client()\n",
    "\n",
    "parameters= [\n",
    "    RangeParametersConfig(name = f\"x{i + 1}\", parameter_type = \"float\", bounds =(0,1))\n",
    "    for i in range(6)\n",
    "]\n",
    "\n",
    "client.configure_experiment(\n",
    "    parameters = parameters, \n",
    "    name = \"hartmann6_experiment\", \n",
    "    description = \"Optimization of the Hartmann6 function\", \n",
    "    owner = \"developer\", \n",
    ")\n",
    "\n",
    "client.configure_optimization(objective = \"-hartmann6\")"
   ]
  }
 ],
 "metadata": {
  "kernelspec": {
   "display_name": "newenv",
   "language": "python",
   "name": "python3"
  },
  "language_info": {
   "codemirror_mode": {
    "name": "ipython",
    "version": 3
   },
   "file_extension": ".py",
   "mimetype": "text/x-python",
   "name": "python",
   "nbconvert_exporter": "python",
   "pygments_lexer": "ipython3",
   "version": "3.13.1"
  }
 },
 "nbformat": 4,
 "nbformat_minor": 5
}

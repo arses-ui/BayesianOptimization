{
 "cells": [
  {
   "cell_type": "code",
   "execution_count": 1,
   "id": "22b5d23b-8b0e-48e2-8f41-c86c3596f25e",
   "metadata": {},
   "outputs": [],
   "source": [
    "import ax\n",
    "import os\n",
    "import time \n",
    "from typing import Any, Mapping\n",
    "import numpy as np \n",
    "from ax.api.client import Client\n",
    "from ax.api.configs import RangeParameterConfig\n",
    "from ax.api.protocols.metric import IMetric\n",
    "from ax.api.protocols.runner import IRunner, TrialStatus\n",
    "from ax.api.types import TParameterization "
   ]
  },
  {
   "cell_type": "code",
   "execution_count": 3,
   "id": "632ed492-d971-458a-b66b-82ef5db4ffea",
   "metadata": {},
   "outputs": [],
   "source": [
    "from ax import Client, RangeParameterConfig"
   ]
  },
  {
   "cell_type": "code",
   "execution_count": 6,
   "id": "1d09ff80-ec78-416e-a3d6-50761c4669f3",
   "metadata": {},
   "outputs": [],
   "source": [
    "client= Client()"
   ]
  },
  {
   "cell_type": "code",
   "execution_count": 8,
   "id": "690e99c6-ca69-4a15-af76-778d92316c78",
   "metadata": {},
   "outputs": [
    {
     "data": {
      "text/plain": [
       "({'x1': 1.1871928212992204, 'x2': 2.3112992148971063},\n",
       " {'booth': (np.float64(0.20982331655579856), np.float64(5.754266367282867))},\n",
       " 13,\n",
       " '13_0')"
      ]
     },
     "execution_count": 8,
     "metadata": {},
     "output_type": "execute_result"
    }
   ],
   "source": [
    "client.configure_experiment(\n",
    "    name = \"booth_function\", \n",
    "    parameters=[\n",
    "        RangeParameterConfig(\n",
    "            name=\"x1\", \n",
    "            bounds= (-10.0, 10.0), \n",
    "            parameter_type= \"float\", \n",
    "        ),\n",
    "        RangeParameterConfig(\n",
    "            name=\"x2\",\n",
    "            bounds=(-10.0, 10.0),\n",
    "            parameter_type=\"float\",\n",
    "        ), ],\n",
    ")\n",
    "client.configure_optimization(objective=\"-1 * booth\")\n",
    "\n",
    "# 4 Conduct the experiment with 20 trials: get each trial from Ax, evaluate the\n",
    "# objective function, log data back to Ax.\n",
    "for _ in range(20):\n",
    "    # Use higher value of `max_trials` to run trials in parallel.\n",
    "    for trial_index, parameters in client.get_next_trials(max_trials=1).items():\n",
    "        client.complete_trial(\n",
    "            trial_index=trial_index,\n",
    "            raw_data={\n",
    "                \"booth\": (parameters[\"x1\"] + 2 * parameters[\"x2\"] - 7) ** 2\n",
    "                + (2 * parameters[\"x1\"] + parameters[\"x2\"] - 5) ** 2\n",
    "            },\n",
    "        )\n",
    "\n",
    "# 5. Obtain the best-performing configuration; the true minimum for the booth\n",
    "# function is at (1, 3)\n",
    "client.get_best_parameterization()"
   ]
  },
  {
   "cell_type": "code",
   "execution_count": null,
   "id": "b8834ce3-b93c-4a07-8121-3214880bf178",
   "metadata": {},
   "outputs": [],
   "source": []
  }
 ],
 "metadata": {
  "kernelspec": {
   "display_name": "BO Kernel",
   "language": "python",
   "name": "bokernel"
  },
  "language_info": {
   "codemirror_mode": {
    "name": "ipython",
    "version": 3
   },
   "file_extension": ".py",
   "mimetype": "text/x-python",
   "name": "python",
   "nbconvert_exporter": "python",
   "pygments_lexer": "ipython3",
   "version": "3.13.1"
  }
 },
 "nbformat": 4,
 "nbformat_minor": 5
}

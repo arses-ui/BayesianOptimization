{
 "cells": [
  {
   "cell_type": "code",
   "execution_count": 4,
   "id": "6a88cfac",
   "metadata": {},
   "outputs": [],
   "source": [
    "import json\n",
    "import os"
   ]
  },
  {
   "cell_type": "code",
   "execution_count": 3,
   "id": "b16364bd",
   "metadata": {},
   "outputs": [],
   "source": [
    "def is_valid_json_file(filepath):\n",
    "    \"\"\"\n",
    "    Checks if the content of a given file is valid JSON.\n",
    "\n",
    "    Args:\n",
    "        filepath (str): The path to the file.\n",
    "\n",
    "    Returns:\n",
    "        bool: True if the file content is valid JSON, False otherwise.\n",
    "    \"\"\"\n",
    "    if not os.path.exists(filepath):\n",
    "        print(f\"File not found: {filepath}\")\n",
    "        return False\n",
    "    \n",
    "    try:\n",
    "        with open(filepath, 'r', encoding='utf-8') as f:\n",
    "            # Attempt to load the file's content as JSON\n",
    "            json.load(f)\n",
    "        return True # If no error, it's valid JSON\n",
    "    except json.JSONDecodeError as e:\n",
    "        print(f\"Invalid JSON format in {filepath}: {e}\")\n",
    "        return False\n",
    "    except Exception as e:\n",
    "        # Catch any other unexpected errors during file reading\n",
    "        print(f\"An error occurred while reading {filepath}: {e}\")\n",
    "        return False"
   ]
  },
  {
   "cell_type": "code",
   "execution_count": null,
   "id": "2f7c539d",
   "metadata": {},
   "outputs": [],
   "source": []
  }
 ],
 "metadata": {
  "kernelspec": {
   "display_name": "newenv",
   "language": "python",
   "name": "python3"
  },
  "language_info": {
   "codemirror_mode": {
    "name": "ipython",
    "version": 3
   },
   "file_extension": ".py",
   "mimetype": "text/x-python",
   "name": "python",
   "nbconvert_exporter": "python",
   "pygments_lexer": "ipython3",
   "version": "3.13.1"
  }
 },
 "nbformat": 4,
 "nbformat_minor": 5
}
